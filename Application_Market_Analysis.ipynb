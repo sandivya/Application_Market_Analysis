{
 "cells": [
  {
   "cell_type": "markdown",
   "metadata": {},
   "source": [
    "# Application Market Analysis\n",
    "\n",
    "In the following project, we will be analysing different mobile application stores like App Store and Google Play to deduce the type of application which will gain more user base, preferably for an ad-based application deployment."
   ]
  },
  {
   "cell_type": "markdown",
   "metadata": {},
   "source": [
    "### Step 1 : Creating a function to explore data sets"
   ]
  },
  {
   "cell_type": "code",
   "execution_count": 58,
   "metadata": {},
   "outputs": [],
   "source": [
    "def explore_data(dataset, start, end , rows_and_columns=False):\n",
    "    dataset_slice = dataset[start:end]\n",
    "    for row in dataset_slice:\n",
    "        print(row)\n",
    "        \n",
    "    if rows_and_columns:\n",
    "        print('Length of row is : ', len(dataset)) #Number of rows\n",
    "        print('Length of column is : ', len(dataset[0])) #Number of columns"
   ]
  },
  {
   "cell_type": "markdown",
   "metadata": {},
   "source": [
    "### Step 2 : Reading our data sets using the function\n",
    "Reading the data from our created explore_data() and printing few lines of it."
   ]
  },
  {
   "cell_type": "code",
   "execution_count": 59,
   "metadata": {},
   "outputs": [
    {
     "name": "stdout",
     "output_type": "stream",
     "text": [
      "['284882215', 'Facebook', '389879808', 'USD', '0.0', '2974676', '212', '3.5', '3.5', '95.0', '4+', 'Social Networking', '37', '1', '29', '1']\n",
      "['389801252', 'Instagram', '113954816', 'USD', '0.0', '2161558', '1289', '4.5', '4.0', '10.23', '12+', 'Photo & Video', '37', '0', '29', '1']\n",
      "['529479190', 'Clash of Clans', '116476928', 'USD', '0.0', '2130805', '579', '4.5', '4.5', '9.24.12', '9+', 'Games', '38', '5', '18', '1']\n",
      "['420009108', 'Temple Run', '65921024', 'USD', '0.0', '1724546', '3842', '4.5', '4.0', '1.6.2', '9+', 'Games', '40', '5', '1', '1']\n",
      "Length of row is :  7198\n",
      "Length of column is :  16\n",
      "['Photo Editor & Candy Camera & Grid & ScrapBook', 'ART_AND_DESIGN', '4.1', '159', '19M', '10,000+', 'Free', '0', 'Everyone', 'Art & Design', 'January 7, 2018', '1.0.0', '4.0.3 and up']\n",
      "['Coloring book moana', 'ART_AND_DESIGN', '3.9', '967', '14M', '500,000+', 'Free', '0', 'Everyone', 'Art & Design;Pretend Play', 'January 15, 2018', '2.0.0', '4.0.3 and up']\n",
      "['U Launcher Lite – FREE Live Cool Themes, Hide Apps', 'ART_AND_DESIGN', '4.7', '87510', '8.7M', '5,000,000+', 'Free', '0', 'Everyone', 'Art & Design', 'August 1, 2018', '1.2.4', '4.0.3 and up']\n",
      "['Sketch - Draw & Paint', 'ART_AND_DESIGN', '4.5', '215644', '25M', '50,000,000+', 'Free', '0', 'Teen', 'Art & Design', 'June 8, 2018', 'Varies with device', '4.2 and up']\n",
      "Length of row is :  10842\n",
      "Length of column is :  13\n"
     ]
    }
   ],
   "source": [
    "open_apple_data = open('AppleStore.csv',encoding=\"utf8\") #Open Apple dataset to read\n",
    "open_google_data = open('googleplaystore.csv',encoding=\"utf8\") #Open Google Play Store to read\n",
    "\n",
    "from csv import reader #Open a reader to read those dataset\n",
    "\n",
    "read_apple_data = reader(open_apple_data) #Reading the AppleStore.csv\n",
    "read_google_data = reader(open_google_data) #Reading the googleplaystore.csv\n",
    "\n",
    "apple_data = list(read_apple_data) #Store AppleStore data in a list\n",
    "google_data = list(read_google_data) #Store googleplaystore data in a list\n",
    "\n",
    "explore_data(apple_data, 1 ,5, True) #Function call - explore_data\n",
    "\n",
    "explore_data(google_data, 1, 5, True) #Function call - explore_data"
   ]
  },
  {
   "cell_type": "markdown",
   "metadata": {},
   "source": [
    "### Step 3 : Explore the header columns of dataset\n",
    "\n",
    "- To know more about AppleStore.csv, visit -> [Link](https://www.kaggle.com/ramamet4/app-store-apple-data-set-10k-apps/home)\n",
    "- To know more about Googleplaystore.csv, visit -> [Link](https://www.kaggle.com/lava18/google-play-store-apps/home)"
   ]
  },
  {
   "cell_type": "code",
   "execution_count": 60,
   "metadata": {
    "scrolled": true
   },
   "outputs": [
    {
     "name": "stdout",
     "output_type": "stream",
     "text": [
      "['id', 'track_name', 'size_bytes', 'currency', 'price', 'rating_count_tot', 'rating_count_ver', 'user_rating', 'user_rating_ver', 'ver', 'cont_rating', 'prime_genre', 'sup_devices.num', 'ipadSc_urls.num', 'lang.num', 'vpp_lic']\n",
      "\n",
      "\n",
      "['App', 'Category', 'Rating', 'Reviews', 'Size', 'Installs', 'Type', 'Price', 'Content Rating', 'Genres', 'Last Updated', 'Current Ver', 'Android Ver']\n"
     ]
    }
   ],
   "source": [
    "explore_data(apple_data,0,1) # 0,1 means printing rows from 0 to (before) 1\n",
    "print('\\n')\n",
    "explore_data(google_data,0,1)"
   ]
  },
  {
   "cell_type": "markdown",
   "metadata": {},
   "source": [
    "### Step 4 : Data Cleaning"
   ]
  },
  {
   "cell_type": "markdown",
   "metadata": {},
   "source": [
    "- Deleting rows with missing column values"
   ]
  },
  {
   "cell_type": "code",
   "execution_count": 61,
   "metadata": {},
   "outputs": [
    {
     "name": "stdout",
     "output_type": "stream",
     "text": [
      "['Life Made WI-Fi Touchscreen Photo Frame', '1.9', '19', '3.0M', '1,000+', 'Free', '0', 'Everyone', '', 'February 11, 2018', '1.0.19', '4.0 and up']\n"
     ]
    }
   ],
   "source": [
    "print(google_data[10473]) #Missisng rating column(Source:Forums)\n",
    "del google_data[10473] #Deleted that row"
   ]
  },
  {
   "cell_type": "markdown",
   "metadata": {},
   "source": [
    "- Finding rows with duplicate entries"
   ]
  },
  {
   "cell_type": "code",
   "execution_count": 62,
   "metadata": {},
   "outputs": [
    {
     "name": "stdout",
     "output_type": "stream",
     "text": [
      "Number of duplicate apps :  1181\n"
     ]
    }
   ],
   "source": [
    "duplicate_apps = [] #List to store duplicate app name\n",
    "unique_apps = [] #List to store unique app name\n",
    "\n",
    "#Function to add app to appropriate list\n",
    "for row in google_data: \n",
    "    name = row[0]\n",
    "    if name in unique_apps:\n",
    "        duplicate_apps.append(name)\n",
    "    else:\n",
    "        unique_apps.append(name)\n",
    "        \n",
    "print('Number of duplicate apps : ', len(duplicate_apps)) \n",
    "#print('Name of duplicate apps : ', duplicate_apps)"
   ]
  },
  {
   "cell_type": "markdown",
   "metadata": {},
   "source": [
    "   - Since, only the latest data of an application is required, we will be deleting other older entries, by the use of column \"rating_count_tot\" which shows number of users who rated the app. "
   ]
  },
  {
   "cell_type": "code",
   "execution_count": 63,
   "metadata": {},
   "outputs": [
    {
     "name": "stdout",
     "output_type": "stream",
     "text": [
      "9659\n"
     ]
    }
   ],
   "source": [
    "rating_dict = {} #New dictionary {Name,Reviews}\n",
    "\n",
    "#If app is in list but with low reviews, it will be replaced with new rating\n",
    "#else if not present, it will be added\n",
    "for row in google_data[1:]:\n",
    "    name = row[0]\n",
    "    rating = float(row[3])\n",
    "    if name in rating_dict:\n",
    "        if rating_dict[name]>rating:\n",
    "            rating_dict[name] = rating\n",
    "    else:\n",
    "        rating_dict[name] = rating\n",
    "        \n",
    "android_clean = [] #Only has unique entry for each app (cleaned dataset)\n",
    "already_added = [] #(names)To prevent already added apps from being added again\n",
    "\n",
    "# If name is not added and it has highest reviews, add it to both list\n",
    "for row in google_data[1:]:\n",
    "    name = row[0]\n",
    "    n_reviews = float(row[3])\n",
    "    if (rating_dict[name] == n_reviews) and (name not in already_added):\n",
    "        android_clean.append(row)\n",
    "        already_added.append(name)\n",
    "        \n",
    "print(len(android_clean))"
   ]
  },
  {
   "cell_type": "markdown",
   "metadata": {},
   "source": [
    "- Removing non-english named apps. Can be done by removing apps which have \n",
    "names beyond ASCII value 0 to 127."
   ]
  },
  {
   "cell_type": "code",
   "execution_count": 64,
   "metadata": {},
   "outputs": [],
   "source": [
    "#Takes name as input and if any of the character has ASCII > 127, return false\n",
    "def check_name(name):\n",
    "    count = 0\n",
    "    #Loop through each character of name\n",
    "    for char in name:\n",
    "        if (ord(char)>127):\n",
    "            count += 1\n",
    "        if count>3:\n",
    "            return False\n",
    "        \n",
    "    return True\n",
    "\n",
    "noeng_google=[]\n",
    "noeng_apple=[]\n",
    "\n",
    "#Removing non-english names\n",
    "for row in google_data:\n",
    "    name = row[0]\n",
    "    if check_name(name):\n",
    "        noeng_google.append(row)\n",
    "        \n",
    "for row in apple_data:\n",
    "    name = row[1]\n",
    "    if check_name(name):\n",
    "        noeng_apple.append(row) \n",
    "        "
   ]
  },
  {
   "cell_type": "markdown",
   "metadata": {},
   "source": [
    "- Since, we only need free apps, paid apps should be removed"
   ]
  },
  {
   "cell_type": "code",
   "execution_count": 65,
   "metadata": {},
   "outputs": [],
   "source": [
    "#Removing paid apps\n",
    "final_google=[]\n",
    "final_apple=[]\n",
    "\n",
    "#App whose Type is Free\n",
    "for row in noeng_google[1:]:\n",
    "    if row[6] == 'Free':\n",
    "        final_google.append(row)\n",
    "        \n",
    "#App whose price is 0.0       \n",
    "for row in noeng_apple[1:]:\n",
    "    if float(row[4]) == 0.0:\n",
    "        final_apple.append(row)\n",
    "        "
   ]
  },
  {
   "cell_type": "markdown",
   "metadata": {},
   "source": [
    "# Step 5 : Creating frequency of genres\n",
    "Because our end goal is to add the app on both the App Store and Google Play, we need to find app genre that are successful on both markets."
   ]
  },
  {
   "cell_type": "code",
   "execution_count": 66,
   "metadata": {},
   "outputs": [],
   "source": [
    "google_genre_freq={}\n",
    "apple_genre_freq={}\n",
    "\n",
    "for row in final_apple[1:]:\n",
    "    genre = row[11]\n",
    "    if genre in apple_genre_freq:\n",
    "        apple_genre_freq[genre] += 1\n",
    "    else:\n",
    "        apple_genre_freq[genre] = 1\n",
    "        \n",
    "for row in final_google[1:]:\n",
    "    genre = row[9]\n",
    "    if genre in google_genre_freq:\n",
    "        google_genre_freq[genre] += 1\n",
    "    else:\n",
    "        google_genre_freq[genre] = 1\n",
    "        \n"
   ]
  },
  {
   "cell_type": "markdown",
   "metadata": {},
   "source": [
    "# Step 6 : Getting most installed apps\n",
    "Now, sorting the frequency table in descending order to know most popular app"
   ]
  },
  {
   "cell_type": "code",
   "execution_count": 67,
   "metadata": {},
   "outputs": [],
   "source": [
    "#A function doing the same above task of calculating frequency\n",
    "def freq_table(dataset,index):\n",
    "    freq={}\n",
    "    for row in dataset:\n",
    "        if row[index] in freq:\n",
    "            freq[row[index]] += 1\n",
    "        else:\n",
    "            freq[row[index]] = 1\n",
    "            \n",
    "        #freq[row[index]] = (freq[row[index]]/sum(freq[row[index]])) * 100\n",
    "        #print(freq)\n",
    "    return freq\n",
    "\n",
    "#sorting frequency in descending order\n",
    "def display_table(dataset, index):\n",
    "    table = freq_table(dataset, index)\n",
    "    table_display = []\n",
    "    for key in table:\n",
    "        key_val_as_tuple = (table[key], key)\n",
    "        table_display.append(key_val_as_tuple)\n",
    "\n",
    "    table_sorted = sorted(table_display, reverse = True)\n",
    "    for entry in table_sorted:\n",
    "        print(entry[1], ':', entry[0])           \n",
    "        \n"
   ]
  },
  {
   "cell_type": "markdown",
   "metadata": {},
   "source": [
    "# Step 7 : Calculating average install for AppleStore\n",
    "We want a category with most app installation on average, which we get by dividing each genre's total user ratings by the number of apps."
   ]
  },
  {
   "cell_type": "code",
   "execution_count": 68,
   "metadata": {},
   "outputs": [
    {
     "name": "stdout",
     "output_type": "stream",
     "text": [
      "Social Networking   71548.34905660378\n",
      "Photo & Video   28441.54375\n",
      "Games   22788.6696905016\n",
      "Music   57326.530303030304\n",
      "Reference   74942.11111111111\n",
      "Health & Fitness   23298.015384615384\n",
      "Weather   52279.892857142855\n",
      "Utilities   18684.456790123455\n",
      "Travel   28243.8\n",
      "Shopping   26919.690476190477\n",
      "News   21248.023255813954\n",
      "Navigation   86090.33333333333\n",
      "Lifestyle   16485.764705882353\n",
      "Entertainment   14029.830708661417\n",
      "Food & Drink   33333.92307692308\n",
      "Sports   23008.898550724636\n",
      "Book   39758.5\n",
      "Finance   31467.944444444445\n",
      "Education   7003.983050847458\n",
      "Productivity   21028.410714285714\n",
      "Business   7491.117647058823\n",
      "Catalogs   4004.0\n",
      "Medical   612.0\n"
     ]
    }
   ],
   "source": [
    "apple_genre = freq_table(final_apple,11)\n",
    "\n",
    "for genre in apple_genre:\n",
    "    total_apple_rating=0\n",
    "    apple_len_genre=0\n",
    "    for row in final_apple:\n",
    "        if row[11] == genre:\n",
    "            total_apple_rating += float(row[5])\n",
    "            apple_len_genre += 1\n",
    "    total_apple_rating /= apple_len_genre\n",
    "    print(genre,' ',total_apple_rating)\n",
    "            "
   ]
  },
  {
   "cell_type": "markdown",
   "metadata": {},
   "source": [
    "# Step 7 : Calculating average install for PlayStore\n",
    "We want a category with most app installation on average, which we get by dividing each genre's total user ratings by the number of apps. But, in playstore total ratings are given as 1,000,000+. hence, we need to remove + and , signs and treat the number as the exact installation no. For Example, 1,000,000+ installation = 1000000 installation"
   ]
  },
  {
   "cell_type": "code",
   "execution_count": 69,
   "metadata": {},
   "outputs": [
    {
     "name": "stdout",
     "output_type": "stream",
     "text": [
      "ART_AND_DESIGN  2038050.8196721312\n",
      "AUTO_AND_VEHICLES  647317.8170731707\n",
      "BEAUTY  513151.88679245283\n",
      "BOOKS_AND_REFERENCE  9655197.28643216\n",
      "BUSINESS  2250454.1348314607\n",
      "COMICS  950443.220338983\n",
      "COMMUNICATION  90935671.86908078\n",
      "DATING  1164270.7356828193\n",
      "EDUCATION  5760596.026490066\n",
      "ENTERTAINMENT  19516734.69387755\n",
      "EVENTS  253542.22222222222\n",
      "FINANCE  2511355.6790830945\n",
      "FOOD_AND_DRINK  2190710.008\n",
      "HEALTH_AND_FITNESS  4869225.852307692\n",
      "HOUSE_AND_HOME  1917187.0568181819\n",
      "LIBRARIES_AND_DEMO  749950.119047619\n",
      "LIFESTYLE  1479956.6267409471\n",
      "GAME  33111302.596789423\n",
      "FAMILY  5787370.152887883\n",
      "MEDICAL  147563.28813559323\n",
      "SOCIAL  48184458.56849315\n",
      "SHOPPING  12637504.221789883\n",
      "PHOTOGRAPHY  32321374.407051284\n",
      "SPORTS  4860918.563888889\n",
      "TRAVEL_AND_LOCAL  27921561.32520325\n",
      "TOOLS  14988276.79842932\n",
      "PERSONALIZATION  7533233.402597402\n",
      "PRODUCTIVITY  35885137.50379747\n",
      "PARENTING  542603.6206896552\n",
      "WEATHER  5747142.162162162\n",
      "VIDEO_PLAYERS  36599010.11764706\n",
      "NEWS_AND_MAGAZINES  27058831.263537906\n",
      "MAPS_AND_NAVIGATION  5569698.307692308\n"
     ]
    }
   ],
   "source": [
    "google_genre = freq_table(final_google,1)\n",
    "\n",
    "for genre in google_genre:\n",
    "    total_google_install = 0\n",
    "    google_len_genre = 0\n",
    "    for row in final_google:\n",
    "        if row[1] == genre:\n",
    "            google_len_genre += 1\n",
    "            install = row[5]\n",
    "            install = install.replace('+','')\n",
    "            install= install.replace(',','')\n",
    "            total_google_install += float(install)\n",
    "    total_google_install /= google_len_genre\n",
    "    print(genre,'',total_google_install)"
   ]
  },
  {
   "cell_type": "markdown",
   "metadata": {
    "collapsed": true
   },
   "source": [
    "# Conclusion\n",
    "\n",
    "By analysing most installed App Store genre (Step-6) and Google Play Store genre (Step-7), we reach to a conclusion that Photography or Navigation genre are ideal for an ad-revenue based application."
   ]
  }
 ],
 "metadata": {
  "kernelspec": {
   "display_name": "Python 3",
   "language": "python",
   "name": "python3"
  },
  "language_info": {
   "codemirror_mode": {
    "name": "ipython",
    "version": 3
   },
   "file_extension": ".py",
   "mimetype": "text/x-python",
   "name": "python",
   "nbconvert_exporter": "python",
   "pygments_lexer": "ipython3",
   "version": "3.7.1"
  }
 },
 "nbformat": 4,
 "nbformat_minor": 2
}
